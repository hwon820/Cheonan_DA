{
 "cells": [
  {
   "cell_type": "markdown",
   "metadata": {},
   "source": [
    "참조 코드: https://developer-woo.tistory.com/60"
   ]
  },
  {
   "cell_type": "markdown",
   "metadata": {},
   "source": [
    "### 천안시 시설 및 프로그램 리뷰 크롤링"
   ]
  },
  {
   "cell_type": "code",
   "execution_count": 1,
   "metadata": {},
   "outputs": [],
   "source": [
    "import re\n",
    "import time\n",
    "import json\n",
    "import urllib.request\n",
    "from tqdm import tqdm  \n",
    "import requests\n",
    "from bs4 import BeautifulSoup\n",
    "from dotenv import load_dotenv\n",
    "import os\n",
    "\n",
    "# Naver API key 가져오기\n",
    "load_dotenv()\n",
    "CLIENT_ID = os.getenv('client_id')\n",
    "CLIENT_SECRET = os.getenv('client_secret')"
   ]
  },
  {
   "cell_type": "code",
   "execution_count": 2,
   "metadata": {},
   "outputs": [],
   "source": [
    "def blog_search(keyword, end_page, crawling_page_num,client_id, client_secret):\n",
    "    # 검색어 입력\n",
    "    keyword = keyword\n",
    "    # Selenium으로 검색 페이지 불러오기\n",
    "    naver_data = []\n",
    "    encText = urllib.parse.quote(keyword)\n",
    "\n",
    "    # 검색을 끝낼 페이지 입력\n",
    "    # end = input(\"\\n크롤링을 끝낼 위치를 입력해주세요. (기본값:1, 최대값:100):\")  \n",
    "    end = end_page\n",
    "    if end == \"\":\n",
    "        end = 1\n",
    "    else:\n",
    "        end = int(end)\n",
    "    print(\"\\n 1 ~ \", end, \"페이지 까지 크롤링을 진행합니다\")\n",
    "\n",
    "    # 한번에 가져올 페이지 입력\n",
    "    #display = input(\"\\n한번에 가져올 페이지 개수를 입력해주세요.(기본값:10, 최대값: 100):\")\n",
    "    display = crawling_page_num\n",
    "    if display == \"\":\n",
    "        display = 10\n",
    "    else:\n",
    "        display = int(display)\n",
    "    print(\"\\n한번에 가져올 페이지 : \", display, \"페이지\")\n",
    "\n",
    "    for start in range(end):\n",
    "        url = f\"https://openapi.naver.com/v1/search/blog?query={encText}&start={start+1}&display={display+1}\" # JSON 결과\n",
    "        request = urllib.request.Request(url)\n",
    "        request.add_header(\"X-Naver-Client-Id\", client_id)\n",
    "        request.add_header(\"X-Naver-Client-Secret\", client_secret)\n",
    "        \n",
    "        response = urllib.request.urlopen(request)\n",
    "        rescode = response.getcode()\n",
    "        \n",
    "        if rescode == 200:\n",
    "            response_body = response.read()\n",
    "            data = json.loads(response_body.decode('utf-8'))['items']\n",
    "            \n",
    "            for row in data:\n",
    "                if 'blog.naver' in row['link']:\n",
    "                    # HTML 태그 제거\n",
    "                    title = re.sub('<[^>]*>', '', row['title'])\n",
    "                    if title == '전국의 가을여행 명소':\n",
    "                        pass\n",
    "                    url = row['link']\n",
    "                    post_date = row['postdate']\n",
    "                    \n",
    "                    # JSON 데이터 추가\n",
    "                    naver_data.append({\n",
    "                        \"title\": title,\n",
    "                        \"url\": url,\n",
    "                        \"postdate\": post_date,\n",
    "                    })\n",
    "            time.sleep(2)\n",
    "        else:\n",
    "            print(\"Error Code:\" + rescode)\n",
    "    return naver_data"
   ]
  },
  {
   "cell_type": "code",
   "execution_count": 3,
   "metadata": {},
   "outputs": [],
   "source": [
    "def blog_contents(url):\n",
    "\n",
    "    # requests를 사용하여 페이지 가져오기\n",
    "    response = requests.get(url)\n",
    "    html_content = response.text\n",
    "    soup = BeautifulSoup(html_content, 'html.parser')\n",
    "\n",
    "    # blog 게시물 내용은 ififrame을 찾기\n",
    "    iframe = soup.find('iframe', id='mainFrame')\n",
    "\n",
    "    # iframe의 src 속성 가져오기\n",
    "    iframe_url = 'https://blog.naver.com' + iframe['src']\n",
    "\n",
    "    # iframe의 실제 페이지 가져오기\n",
    "    iframe_response = requests.get(iframe_url)\n",
    "    iframe_content = iframe_response.text\n",
    "\n",
    "    # 다시 iframe의 내용 파싱\n",
    "    iframe_soup = BeautifulSoup(iframe_content, 'html.parser')\n",
    "\n",
    "    # 블로그 본문 추출\n",
    "    content_divs = iframe_soup.find_all('div', class_='se-component se-text se-l-default')\n",
    "    text = \"\"\n",
    "    # 각 div에서 텍스트를 추출하여 출력\n",
    "    for div in content_divs:\n",
    "        paragraphs = div.find_all('p')\n",
    "        for p in paragraphs:\n",
    "            text += p.get_text(strip=True) + \" \"  # 각 문단을 공백으로 연결\n",
    "\n",
    "    return text"
   ]
  },
  {
   "cell_type": "code",
   "execution_count": 4,
   "metadata": {},
   "outputs": [],
   "source": [
    "keywords = ['도솔광장 반려인 쉼터', '천안축구센터 반려인 쉼터', '백석동 반려인 쉼터','천안시 동물보호센터','2024 천안시 dog festival','천안시 펫티켓 문화교육']"
   ]
  },
  {
   "cell_type": "code",
   "execution_count": 6,
   "metadata": {},
   "outputs": [
    {
     "name": "stdout",
     "output_type": "stream",
     "text": [
      "\n",
      " 1 ~  10 페이지 까지 크롤링을 진행합니다\n",
      "\n",
      "한번에 가져올 페이지 :  50 페이지\n"
     ]
    },
    {
     "name": "stderr",
     "output_type": "stream",
     "text": [
      "100%|██████████| 40/40 [00:10<00:00,  3.97it/s]\n"
     ]
    },
    {
     "name": "stdout",
     "output_type": "stream",
     "text": [
      "\n",
      " 1 ~  10 페이지 까지 크롤링을 진행합니다\n",
      "\n",
      "한번에 가져올 페이지 :  50 페이지\n"
     ]
    },
    {
     "name": "stderr",
     "output_type": "stream",
     "text": [
      "100%|██████████| 235/235 [00:54<00:00,  4.28it/s]\n"
     ]
    },
    {
     "name": "stdout",
     "output_type": "stream",
     "text": [
      "\n",
      " 1 ~  10 페이지 까지 크롤링을 진행합니다\n",
      "\n",
      "한번에 가져올 페이지 :  50 페이지\n"
     ]
    },
    {
     "name": "stderr",
     "output_type": "stream",
     "text": [
      "100%|██████████| 465/465 [01:35<00:00,  4.84it/s]\n"
     ]
    },
    {
     "name": "stdout",
     "output_type": "stream",
     "text": [
      "\n",
      " 1 ~  10 페이지 까지 크롤링을 진행합니다\n",
      "\n",
      "한번에 가져올 페이지 :  50 페이지\n"
     ]
    },
    {
     "name": "stderr",
     "output_type": "stream",
     "text": [
      "100%|██████████| 510/510 [01:37<00:00,  5.24it/s]\n"
     ]
    },
    {
     "name": "stdout",
     "output_type": "stream",
     "text": [
      "\n",
      " 1 ~  10 페이지 까지 크롤링을 진행합니다\n",
      "\n",
      "한번에 가져올 페이지 :  50 페이지\n"
     ]
    },
    {
     "name": "stderr",
     "output_type": "stream",
     "text": [
      "100%|██████████| 9/9 [00:02<00:00,  4.18it/s]\n"
     ]
    },
    {
     "name": "stdout",
     "output_type": "stream",
     "text": [
      "\n",
      " 1 ~  10 페이지 까지 크롤링을 진행합니다\n",
      "\n",
      "한번에 가져올 페이지 :  50 페이지\n"
     ]
    },
    {
     "name": "stderr",
     "output_type": "stream",
     "text": [
      "100%|██████████| 125/125 [00:32<00:00,  3.90it/s]\n"
     ]
    }
   ],
   "source": [
    "blog = {}\n",
    "end_page = 10\n",
    "crawling_page_num = 50\n",
    "\n",
    "for keyword in keywords: \n",
    "    \n",
    "    # Naver API를 사용하여 검색 결과 가져오기\n",
    "    data = blog_search(keyword, end_page, crawling_page_num, CLIENT_ID, CLIENT_SECRET)\n",
    "\n",
    "    for i in tqdm(range(len(data))):\n",
    "        url = data[i]['url']\n",
    "        text = blog_contents(url)\n",
    "        data[i]['text'] = text\n",
    "\n",
    "    # 첫 번째 키워드를 blog 딕셔너리에 추가\n",
    "    if keyword not in blog:\n",
    "        blog[keyword] = data  # 첫 번째 키워드의 데이터를 추가\n",
    "\n",
    "    else:\n",
    "        blog[keyword].extend(data)  # 기존 키워드에 새로운 데이터를 추가"
   ]
  },
  {
   "cell_type": "code",
   "execution_count": 9,
   "metadata": {},
   "outputs": [
    {
     "data": {
      "text/plain": [
       "{'title': '천안 애견동반 가능한 도솔광장 ㅣ 반려인 쉼터와 나라꽃... ',\n",
       " 'url': 'https://blog.naver.com/requiem_09/223477750366',\n",
       " 'postdate': '20240613',\n",
       " 'text': '콩이를 데리고 천안가볼만한곳 을 물색하던 도중 도솔광장이 좋다는 소리에 달려온 양구콩 양콩이가 소개해준 콩이 시리즈! 그 첫 번째#도솔광장#도솔광장반려인쉼터 이렇게 넓은 지하주차장에 저렴한 주차요금 그리고 2시간 무료라니?! 우선 합격~! 반려동물 펫티켓은 반드시 지켜져야하고 우리 콩이도 안전한 산책을 하려면 모든 견주들이 펫티켓을 지켜줘야 한다는 사실! 클라이밍 장소도 있고 화장실도 곳곳에 있어서 여러가지 액티비티를 즐기기에도 좋아요 단, 클라이밍은 사전에 허가받고 정해진 시간에만 이용이 가능한가봐요 저희의 목적지로 가는 길에 오잉?! 나라꽃 무궁화숲길이 있더라구요 #무궁화숲길#천안무궁화숲길 잘은 모르지만 천안시에서 나라꽃을 심어주고 관리해주고 있다는 사실은 확실하네요 이렇게 무궁화에 대한 여러 정보도 공유하면서 여러가지 볼거리를 만들어주니 사람들이 안올 수가 없죠~! 으음 무궁화도 한 종류가 아니라 여러 구분을 통해 분류가 되는구나를 느낀 구콩이 천연기념물인 무궁화에 대해 궁금하시다면 도솔광장을 방문해보세요~! 이 와중에 네잎클로버 찾기에서 정말 찾아버린 몽골의 피가 0.0001%이상 흐르는 양콩이! 다음 날, 코팅해서 고이 간직했다는 양콩이 아유 순수해라~~ 사실 오늘의 주 목적지는 우리 콩이의 자유로운 뜀박질을 위한 공간이 있는 도솔광장 반려인쉼터에요 오자마자 그 존재감을 뽐내는 우리 콩이 친구들에게 가서 킁킁 냄새를 맡고 부담스럽게 접근해서 엄청 뛰어댕겼어요 여기저기 펄쩍거리는 콩이를 보면서 반려견주분들이 아이고 애기네~ 하셨지요 \\u200b 우리 콩이 이제 14개월이라 애기 티는 벗어야 할텐데 저렇게 최선을 다해 뛰어다니면 누가 어른이라고 하겠어요,,, ㅠ 한 번 꽂힌 강아지는 졸졸졸 따라다니는 스토커견 콩이! 그래도 가끔 부르면 달려와주는 모습이 너무나 귀여우니 봐줄게 콩이야,,, 반려인쉼터에서 킁킁 냄새를 맡고 가슴줄을 하지 않고 편히 노는 콩이를 보며 괜히 제 마음이 더 편해지더라구요 \\u200b 이 글을 쓰는 오늘은 가슴줄을 하고 동네 산책 35분을 다녀왔지만 아무리 그래도 줄없이 안전하게 노니는 콩이의 모습을 보는게 더 좋은 것 같아요 아주 그냥 자기 좋을 때는 폴짝거리면서 수틀리면 간식을 내밀어도 쳐다도 안보는 반항견 말티푸 콩이 남에게 피해 안주고 이쁘게 자라는 콩이 귀가 펄럭거리는 애교 많은 콩이를 보면서 그래도 나쁘지 않게 키우고 있다는 생각이 들어요 그나저나 여기 도솔광장에 왜이리 잠시 주저앉고싶은 공간이 많은건지,,? \\u200b 신부동 핫플레이스 도솔광장너 합격 콩이야 자주오자~! \\u200b 그럼 이만 콩이야 사랑해 #천안도솔광장#천안반려인쉼터#천안강아지동반 #천안강아지동반공원#천안무궁화숲길#천안신부동도솔광장#천안갈만한곳 #천안가볼만한곳\\u200b\\u200b \\u200b \\u200b '}"
      ]
     },
     "execution_count": 9,
     "metadata": {},
     "output_type": "execute_result"
    }
   ],
   "source": [
    "blog['도솔광장 반려인 쉼터'][0]"
   ]
  },
  {
   "cell_type": "code",
   "execution_count": 10,
   "metadata": {},
   "outputs": [],
   "source": [
    "# JSON 파일로 저장\n",
    "with open('Data/blog.json', 'w', encoding='utf-8') as json_file:\n",
    "    json.dump(blog, json_file, ensure_ascii=False, indent=4)"
   ]
  },
  {
   "cell_type": "markdown",
   "metadata": {},
   "source": [
    "### 사립 시설 크롤링"
   ]
  },
  {
   "cell_type": "code",
   "execution_count": 14,
   "metadata": {},
   "outputs": [],
   "source": [
    "keywords = ['천안 운동장 애견카페']"
   ]
  },
  {
   "cell_type": "code",
   "execution_count": 15,
   "metadata": {},
   "outputs": [
    {
     "name": "stdout",
     "output_type": "stream",
     "text": [
      "\n",
      " 1 ~  10 페이지 까지 크롤링을 진행합니다\n",
      "\n",
      "한번에 가져올 페이지 :  50 페이지\n"
     ]
    },
    {
     "name": "stderr",
     "output_type": "stream",
     "text": [
      "100%|██████████| 510/510 [02:20<00:00,  3.63it/s]\n"
     ]
    }
   ],
   "source": [
    "private_facil = {}\n",
    "end_page = 10\n",
    "crawling_page_num = 50\n",
    "\n",
    "for keyword in keywords: \n",
    "    \n",
    "    # Naver API를 사용하여 검색 결과 가져오기\n",
    "    data = blog_search(keyword, end_page, crawling_page_num, CLIENT_ID, CLIENT_SECRET)\n",
    "\n",
    "    for i in tqdm(range(len(data))):\n",
    "        url = data[i]['url']\n",
    "        text = blog_contents(url)\n",
    "        data[i]['text'] = text\n",
    "\n",
    "    # 첫 번째 키워드를 blog 딕셔너리에 추가\n",
    "    if keyword not in blog:\n",
    "        private_facil[keyword] = data  # 첫 번째 키워드의 데이터를 추가\n",
    "\n",
    "    else:\n",
    "        private_facil[keyword].extend(data)  # 기존 키워드에 새로운 데이터를 추가"
   ]
  },
  {
   "cell_type": "code",
   "execution_count": 17,
   "metadata": {},
   "outputs": [
    {
     "data": {
      "text/plain": [
       "{'title': '천안애견카페 포토존에 강아지운동장 있는 날아라멍멍',\n",
       " 'url': 'https://blog.naver.com/kskr3105/223430968747',\n",
       " 'postdate': '20240429',\n",
       " 'text': '\\u200b \\u200b 오랜만에강아지운동장에서 뛰뛰시키고 싶어서천안애견카페날아라멍멍을 찾았어요. 주소상은 아산 탕정이지만 천안 불당동과 10분 거리밖에 되지 않아서 아주 가까웠어요. 직접 방문해 봤더니 블루 도어의 외관이 눈길을 사로잡았어요. 외국 감성이 뿜뿜하는 카페랄까요? 애카가 아니라 일반 갬성 카페 같은 분위기였어요. 바로 앞에넓은 단독 주차공간이 있어서 오시는 분들은 주차 걱정 안 해도 될 것 같아요. \\u200b \\u200b \\u200b 알고 보니tv 동물농장에도 나왔던 곳이었어요. 아무튼 간에 입장하기 전 이용수칙이 있어서 열심히 읽어준 후 입장했어요. 우선, 반군이 애들을 데리고 강아지운동장으로 바로 입장했고 저 혼자만 실내로 들어갔어요. 주차장에서 운동장으로 들어가는 문이 있어서 편하게 바로 입장할 수 있었어요.날아라멍멍 영업시간은 평일은 오전 11시 ~ 오후 7시까지, 주말은 오후 8시까지이며 매주 월요일이 휴무이니 참고하셔서 방문하면 좋을 것 같아요. 저희는 낑깡이땜에 오픈 시간에 맞춰서 오전 11시에 방문했어요. \\u200b \\u200b \\u200b 문을 열고 들어가니 안전문으로 한 번 더 있어서 실내 카페에서 놀다가 아이가 뛰쳐나가는 일은 없을듯해요. 그리고 실내화가 있어서 순간 신발을 벗는 건가 했는데 여쭤보니 비가 온 날에만 신는다고 하더라고요. 얼마나깔끔하게 관리를 하는지 이때부터 느낄 수 있었어요. \\u200b \\u200b \\u200b 들어오자마자 저도 모르게 감탄이 절로 나왔어요. 사실 밖에서 봤을 땐 강아지운동장은 넓어도 실내는 아담한 천안애견카페라고 생각했어요. 근데약 50평 정도 되는 실내였으며 무엇보다 너무 깨끗했어요. 아무리 열자마자 왔다고 해도 제가 지금까지 직접 다녀봤던 애카들은 애들 냄새가 배어 있거나 바닥에 털들이 있고 그랬어요. 여기는 그런 거 전혀 없고 저희 집보다 쾌적하고 깔끔했어요. 그리고다양한 브랜드의 의류와 프리미엄 애견용품들도 판매하고 있어서 쇼핑하는 재미도 느낄 수 있는 곳이었어요. \\u200b \\u200b 날아라멍멍 입장료는 1인 5000원, 1견 5000원이었고 입장료, 음료 가격 모두 합리적이었어요. 그리고 음료는 착한 가격으로 테이크아웃이 가능했어요. 비대면 키오스크로 주문을 하면 되고음료는 최신 커피 머신 기계로 만들어지며떡볶이, 라면, 만두 등 간단한 먹거리들도 판매를 하고 있어서 좋았어요. \\u200b \\u200b \\u200b 직접 구석구석 둘러보니 배려심과 세심함이 느껴지는천안애견카페였어요. 곳곳에 이쁜 포토존은 물론이고 기저귀, 배변패드, 포토 소품 등 다양하게 준비가 되어 있었어요. 감사하게도기저귀는 1개 무료 제공이 되었어요. \\u200b \\u200b \\u200b 여기는 화장실 앞인데 어쩜 화장실 입구까지 이리도 갬성 있게 인테리어를 해놨는지 저도 모르게 카메라를 들게 되더라고요. 그냥 이쁘게 꾸민 게 다가 아니라쾌적하고 깨끗하다 보니 더 이쁘게다가왔어요. \\u200b \\u200b 실내 구경을 마치고 깡톨형제가 뛰뛰하는 강아지운동장으로 나왔어요.150평의 천연 잔디 운동장으로 댕댕이들이 신나게 뛰놀기에 넘나 제격이었어요. 야외도 포토존이 곳곳에 있었고 어질리티도 있어서 알차게 시간을 보낼 수 있게 꾸며져 있었어요. 그리고 뜨거운 날에도 반려견과 반려인 모두 그늘에서 쉴 수 있게쉼 공간도 여유롭게 마련되어 있어 더욱 맘에 들었어요. \\u200b \\u200b \\u200b 가만히 지켜보니 실내와 야외 모두 왜 이렇게 깨끗한지 알았어요.청소를 자주 하기 때문에 냄새도 없고 청결하고 쾌적했던 거였어요. 야외의 시설까지 닦는 건 처음 봤어요. 진짜여긴 믿고 올 수 있는천안애견카페라는 생각이 들었어요. 솔직히 실내는 그렇다 쳐도 야외 운동장은 구석에 응가가 있는 경우도 있고 시설에 먼지가 쌓여 있는 경우도 있는데 여긴 달랐어요. 한쪽에는 물과 휴지통, 배변봉투가 있어서 역시나세심한 배려가 느껴졌어요. \\u200b \\u200b \\u200b 처음에는 탐색을 하는지 냄새만 여기저기 다니면서 맡더니 조금 시간이 지나니 익숙해졌는지 신나게 뛰뛰했어요. 오랜만에 애카를 찾아서인지 특히 낑깡이가 넘 신나 보였어요. \\u200b \\u200b 저희는 시원하게 아이스 아메리카노를 주문했어요. 친절하게도 직접 가져다주셨어요. 이날 카페 자체도 이쁘고 쾌적한 것도 맘에 들었지만사장님과 알바생님이 너무 친절하셔서 더 맘에 들었어요. 보여주기식이 아닌우러나오는 친절함이라 더 감동이었어요. \\u200b \\u200b \\u200b 내새꾸들 촌놈들이라서 멍푸치노를 한 번도 먹어본 적이 없어요.천안애견카페 날아라멍멍에 있어서 주문을 해주었어요. 낯설어서 그런지 처음에는 엄청 탐색을 하더니 맛난 걸 알았는지 폭풍으로 먹기 시작했어요. 여기멍푸치노 맛집이었어요. \\u200b \\u200b \\u200b 멍푸치노도 맛있게 먹었겠다 다시 신나게 뛰뛰했어요. 운동장에 웨건이랑 작은 수레 같은 게 있길래 울 밤톨이 수레도 태워줬어요. 낑깡이는 혼자서 여기저기 누비느라 불러도 안 오고 혼자 잘 놀았어요. \\u200b \\u200b 포토존에서 기념샷 안 찍으면 섭섭하지요? 요렇게 귀여운 기념샷도 남겼어요. 여기는 애들이신나게 놀 수도 있지만 귀여운 인생샷도 남길 수 있어좋았어요. \\u200b \\u200b \\u200b 햇빛이 강해져 더위 식힐 겸 실내에 들어와서도 찰칵은 이어졌어요. 근데 요 녀석들 여기저기 탐색을 하고 싶어서 협조를 안 해주었어요. 기린 앞에서는 무서워서 고개 돌리고 가발을 씌어놓으니 낯설어서 고개 내리고 사랑스러운 포토존에서는 둘이 붙어있기 싫다고 도망가고요. 엉망진창이 되어 버린 사진 놀이였어요. \\u200b \\u200b \\u200b 다시 나가서 놀고 싶어 하는 눈치여서 어느 정도 휴식도 했겠다 다시 강아지운동장으로 나왔어요. 나오자마자 날아라 낑깡을 보여주었어요. 정말 신나고 기분 좋을 때만 보여주는 모습인데날아라멍멍이 낑깡이의 취향 저격했나 봐요. \\u200b \\u200b 분위기를 더 리얼하게 느끼시라고 동영상으로도 담았어요. 아산 혹은천안 강아지운동장어디로 가야 하지 싶다면 여기로 가시라고 추천드리고 싶어요. 제가 직접 가보니댕댕이들이 신나게 놀기에 부족함이 없는 만족스러운 곳이었거든요. \\u200b \\u200b \\u200b 놀다 보니운동장 단독 대관이 가능한 걸 알았어요. 휴무인 월요일은 종일 대관이 가능하고 영업하는 날은 영업 시작 전과 영업 끝나고 대관이 가능했어요. 2인 2견 기준에 시간당 2만원이었어요. 프라이빗하게 놀려면 요거 너무 괜찮은 것 같아요. \\u200b \\u200b \\u200b 지금까지 제가직접 가봤던 애견카페 중에서 가장 쾌적한 곳이 아닌가 싶어요. 제가 사는 동네가 아니어서 자주는 못 가도 애들 신나게 뛰뛰해주고 싶을 때 한 번씩 찾아갈 생각이며 운동장 대관도 조만간 하려고요. 천안애견카페어딜 갈까 고민이시라면 깨끗하고 친절한날아라멍멍강추 드려요. \\u200b \\u200b 그럼 이만 뿅. \\u200b \\u200b \\u200b \\u200b \\u200b \\u200b \\u200b \\u200b \\u200b \\u200b \\u200b \\u200b \\u200b \\u200b \\u200b \\u200b '}"
      ]
     },
     "execution_count": 17,
     "metadata": {},
     "output_type": "execute_result"
    }
   ],
   "source": [
    "private_facil['천안 운동장 애견카페'][0]"
   ]
  },
  {
   "cell_type": "code",
   "execution_count": 18,
   "metadata": {},
   "outputs": [],
   "source": [
    "# JSON 파일로 저장\n",
    "with open('Data/private_facil_blog.json', 'w', encoding='utf-8') as json_file:\n",
    "    json.dump(private_facil, json_file, ensure_ascii=False, indent=4)"
   ]
  }
 ],
 "metadata": {
  "kernelspec": {
   "display_name": "craw",
   "language": "python",
   "name": "python3"
  },
  "language_info": {
   "codemirror_mode": {
    "name": "ipython",
    "version": 3
   },
   "file_extension": ".py",
   "mimetype": "text/x-python",
   "name": "python",
   "nbconvert_exporter": "python",
   "pygments_lexer": "ipython3",
   "version": "3.11.0"
  }
 },
 "nbformat": 4,
 "nbformat_minor": 2
}
