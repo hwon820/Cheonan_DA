{
 "cells": [
  {
   "cell_type": "code",
   "execution_count": 16,
   "metadata": {},
   "outputs": [],
   "source": [
    "import openai\n",
    "import pandas as pd\n",
    "import json\n",
    "from dotenv import load_dotenv\n",
    "import os\n",
    "import time"
   ]
  },
  {
   "cell_type": "code",
   "execution_count": 2,
   "metadata": {},
   "outputs": [],
   "source": [
    "load_dotenv()\n",
    "openai.api_key = os.getenv('OPENAI_API_KEY')"
   ]
  },
  {
   "cell_type": "markdown",
   "metadata": {},
   "source": [
    "# 현행 시설 및 프로그램 개선점 도출"
   ]
  },
  {
   "cell_type": "code",
   "execution_count": 3,
   "metadata": {},
   "outputs": [],
   "source": [
    "df = pd.read_csv('Data/cleaned_data.csv')"
   ]
  },
  {
   "cell_type": "code",
   "execution_count": 4,
   "metadata": {},
   "outputs": [],
   "source": [
    "# 개선점 도출 함수 정의\n",
    "def extract_issues_from_review(review_text):\n",
    "    prompt = f\"다음 블로그 글에서 시설에 대한 불편했던 점이나 고쳐야 할 점을 찾아줘:\\n\\n{review_text}\\n\\n개선점:\"\n",
    "    \n",
    "    response = openai.ChatCompletion.create(\n",
    "        model=\"gpt-4o\",\n",
    "        messages=[\n",
    "            {\"role\": \"system\", \"content\": \"You are a helpful assistant.\"},\n",
    "            {\"role\": \"user\", \"content\": prompt}\n",
    "        ],\n",
    "        max_tokens=150,\n",
    "        n=1,\n",
    "        stop=None,\n",
    "        temperature=0.5,\n",
    "    )\n",
    "    \n",
    "    return response['choices'][0]['message']['content'].strip()\n"
   ]
  },
  {
   "cell_type": "code",
   "execution_count": 9,
   "metadata": {},
   "outputs": [
    {
     "data": {
      "text/plain": [
       "location                                           천안시 동물보호센터\n",
       "title                                 천안시, 동물보호센터 자원봉사자 상시 모집\n",
       "url           https://blog.naver.com/fastcheonan/223545011360\n",
       "postdate                                           2024-08-13\n",
       "content     ​ 안녕하세요. 천안시입니다. ​ ​ 지난 3월유기·유실 동물의 입양과 건강한 반려...\n",
       "Name: 56, dtype: object"
      ]
     },
     "execution_count": 9,
     "metadata": {},
     "output_type": "execute_result"
    }
   ],
   "source": [
    "# 실험용 데이터\n",
    "df.iloc[56]"
   ]
  },
  {
   "cell_type": "code",
   "execution_count": 10,
   "metadata": {},
   "outputs": [],
   "source": [
    "# 실험용 코드1 - **돌리면 API 사용함**\n",
    "review_text = df.iloc[56].content # 실험용 데이터\n",
    "prompt = f\"다음 블로그 글에서 시설에 대한 불편했던 점이나 고쳐야 할 점을 찾아줘:\\n\\n{review_text}\\n\\n개선점:\"\n",
    "    \n",
    "response = openai.ChatCompletion.create(\n",
    "    model=\"gpt-4o\",\n",
    "    messages=[\n",
    "        {\"role\": \"system\", \"content\": \"You are a helpful assistant.\"},\n",
    "        {\"role\": \"user\", \"content\": prompt}\n",
    "    ],\n",
    "    max_tokens=150,\n",
    "    n=1,\n",
    "    stop=None,\n",
    "    temperature=0.5,\n",
    ")\n",
    "\n",
    "issues = extract_issues_from_review(review_text)"
   ]
  },
  {
   "cell_type": "code",
   "execution_count": 11,
   "metadata": {},
   "outputs": [
    {
     "name": "stdout",
     "output_type": "stream",
     "text": [
      "블로그 글에서 시설에 대한 불편했던 점이나 고쳐야 할 점은 명시되어 있지 않지만, 몇 가지 개선점을 제안할 수 있습니다:\n",
      "\n",
      "1. **시설 유지 및 청결 관리**: \n",
      "   - 글에서 자원봉사자가 센터 환경정비에 참여한다고 언급되어 있습니다. 이는 시설의 청결과 유지 관리가 중요하다는 것을 의미합니다. 주기적인 청소와 정비 계획을 명확히 하고, 필요한 경우 추가적인 인력이나 자원을 투입할 필요가 있습니다.\n",
      "\n",
      "2. **자원봉사자 교육 강화**:\n",
      "   - 자원봉사자에게 기본 안전수칙과 유기견 돌봄 주의\n"
     ]
    }
   ],
   "source": [
    "print(issues)"
   ]
  },
  {
   "cell_type": "markdown",
   "metadata": {},
   "source": [
    ">불만점 없어도 답변을 뱉음, 코드 수정"
   ]
  },
  {
   "cell_type": "code",
   "execution_count": 14,
   "metadata": {},
   "outputs": [
    {
     "data": {
      "text/plain": [
       "location                                          도솔광장 반려인 쉼터\n",
       "title                           천안 강아지 산책, 반려견 놀이터가 있는 천안축구센터\n",
       "url               https://blog.naver.com/kimjymt/223310002749\n",
       "postdate                                           2024-01-02\n",
       "content     ​ ​ ​ ​ 에삐와 고미와 함께 천안에 있는 처가댁에 방문하여 며칠 신세를 졌다....\n",
       "Name: 3, dtype: object"
      ]
     },
     "execution_count": 14,
     "metadata": {},
     "output_type": "execute_result"
    }
   ],
   "source": [
    "# 실험용 데이터\n",
    "df.iloc[3]"
   ]
  },
  {
   "cell_type": "code",
   "execution_count": 16,
   "metadata": {},
   "outputs": [],
   "source": [
    "# 실험용 코드2 - **돌리면 API 사용함**\n",
    "review_text = df.iloc[3].content # 실험용 데이터\n",
    "prompt = f\"다음 블로그 글에서 시설에 대한 불편했던 점이나 고쳐야 할 점을 찾아줘:\\n\\n{review_text}\\n\\n개선점:\"\n",
    "    \n",
    "response = openai.ChatCompletion.create(\n",
    "    model=\"gpt-4o\",\n",
    "    messages=[\n",
    "        {\"role\": \"system\", \"content\": \"You are a helpful assistant.\"},\n",
    "        {\"role\": \"user\", \"content\": prompt}\n",
    "    ],\n",
    "    max_tokens=150,\n",
    "    n=1,\n",
    "    stop=None,\n",
    "    temperature=0.5,\n",
    ")\n",
    "\n",
    "issues = extract_issues_from_review(review_text)"
   ]
  },
  {
   "cell_type": "code",
   "execution_count": 18,
   "metadata": {},
   "outputs": [
    {
     "name": "stdout",
     "output_type": "stream",
     "text": [
      "블로그 글에서 언급된 천안축구센터의 개선점은 다음과 같습니다:\n",
      "\n",
      "1. **진흙 문제**: 눈 비가 온 후 놀이터 입구 바닥이 질퍽하고 놀이터 안에도 진흙이 많아 날씨가 안 좋을 때는 놀기 어렵다는 점.\n",
      "   - **개선 제안**: 놀이터 입구와 내부 바닥에 배수 시설을 개선하거나, 비가 온 후에도 사용할 수 있도록 인조 잔디나 배수 잘 되는 재질로 바닥을 보강하는 것이 좋겠습니다.\n",
      "\n",
      "2. **쓰레기 관리**: 놀이터 안에 쓰레기통이 있음에도 불구하고 바\n"
     ]
    }
   ],
   "source": [
    "print(issues)"
   ]
  },
  {
   "cell_type": "markdown",
   "metadata": {},
   "source": [
    "----"
   ]
  },
  {
   "cell_type": "markdown",
   "metadata": {},
   "source": [
    "### 개선점 도출 함수 수정"
   ]
  },
  {
   "cell_type": "code",
   "execution_count": 13,
   "metadata": {},
   "outputs": [],
   "source": [
    "# 함수 수정\n",
    "# 개선점 도출 함수 정의\n",
    "def extract_issues_from_review(review_text):\n",
    "    prompt = f\"\"\"다음 블로그 글에서 시설에 대한 불편했던 점이나 고쳐야 할 점을 찾아줘:\n",
    "    \n",
    "    {review_text}\n",
    "\n",
    "    만약 개선할 점이 명확하지 않거나 없으면 '개선점 없음'이라고 적고 끝내줘.\"\"\"\n",
    "    \n",
    "    response = openai.ChatCompletion.create(\n",
    "        model=\"gpt-4\",\n",
    "        messages=[\n",
    "            {\"role\": \"system\", \"content\": \"You are a helpful assistant.\"},\n",
    "            {\"role\": \"user\", \"content\": prompt}\n",
    "        ],\n",
    "        max_tokens=240,  # 최대 토큰 수를 제한하여 짧게 응답하도록 설정\n",
    "        n=1,\n",
    "        stop=None,\n",
    "        temperature=0.5,\n",
    "    )\n",
    "    \n",
    "    issues = response['choices'][0]['message']['content'].strip()\n",
    "    \n",
    "    if \"개선점 없음\" in issues or len(issues) < 10:  # 개선점이 없거나 짧은 경우\n",
    "        return \"개선점 없음\"\n",
    "    else:\n",
    "        return issues"
   ]
  },
  {
   "cell_type": "code",
   "execution_count": 14,
   "metadata": {},
   "outputs": [
    {
     "name": "stdout",
     "output_type": "stream",
     "text": [
      "개선점 없음\n"
     ]
    }
   ],
   "source": [
    "# 실험용\n",
    "review_text = df.iloc[56].content\n",
    "issues = extract_issues_from_review(review_text)\n",
    "print(issues)"
   ]
  },
  {
   "cell_type": "code",
   "execution_count": 17,
   "metadata": {},
   "outputs": [],
   "source": [
    "# api 호출시 rate limit에 걸릴 경우 재시도하는 함수 정의\n",
    "def extract_issues_with_retry(review_text, retries=3):\n",
    "    for attempt in range(retries):\n",
    "        try:\n",
    "            return extract_issues_from_review(review_text)\n",
    "        except openai.error.RateLimitError:\n",
    "            print(f\"Rate limit reached. Retrying in 20 seconds...\")\n",
    "            time.sleep(20)\n",
    "    return \"Rate limit exceeded, please try later.\""
   ]
  },
  {
   "cell_type": "code",
   "execution_count": 18,
   "metadata": {},
   "outputs": [
    {
     "name": "stdout",
     "output_type": "stream",
     "text": [
      "Rate limit reached. Retrying in 20 seconds...\n",
      "Rate limit reached. Retrying in 20 seconds...\n",
      "Rate limit reached. Retrying in 20 seconds...\n",
      "Rate limit reached. Retrying in 20 seconds...\n",
      "Rate limit reached. Retrying in 20 seconds...\n",
      "Rate limit reached. Retrying in 20 seconds...\n",
      "Rate limit reached. Retrying in 20 seconds...\n",
      "Rate limit reached. Retrying in 20 seconds...\n",
      "Rate limit reached. Retrying in 20 seconds...\n",
      "Rate limit reached. Retrying in 20 seconds...\n",
      "Rate limit reached. Retrying in 20 seconds...\n",
      "Rate limit reached. Retrying in 20 seconds...\n",
      "Rate limit reached. Retrying in 20 seconds...\n",
      "Rate limit reached. Retrying in 20 seconds...\n",
      "Rate limit reached. Retrying in 20 seconds...\n",
      "Rate limit reached. Retrying in 20 seconds...\n",
      "Rate limit reached. Retrying in 20 seconds...\n",
      "Rate limit reached. Retrying in 20 seconds...\n",
      "Rate limit reached. Retrying in 20 seconds...\n",
      "Rate limit reached. Retrying in 20 seconds...\n",
      "Rate limit reached. Retrying in 20 seconds...\n",
      "Rate limit reached. Retrying in 20 seconds...\n"
     ]
    },
    {
     "ename": "InvalidRequestError",
     "evalue": "This model's maximum context length is 8192 tokens. However, your messages resulted in 11012 tokens. Please reduce the length of the messages.",
     "output_type": "error",
     "traceback": [
      "\u001b[0;31m---------------------------------------------------------------------------\u001b[0m",
      "\u001b[0;31mInvalidRequestError\u001b[0m                       Traceback (most recent call last)",
      "Cell \u001b[0;32mIn[18], line 12\u001b[0m\n\u001b[1;32m     10\u001b[0m     url \u001b[38;5;241m=\u001b[39m row[\u001b[38;5;124m'\u001b[39m\u001b[38;5;124murl\u001b[39m\u001b[38;5;124m'\u001b[39m]\n\u001b[1;32m     11\u001b[0m     review_text \u001b[38;5;241m=\u001b[39m row[\u001b[38;5;124m'\u001b[39m\u001b[38;5;124mcontent\u001b[39m\u001b[38;5;124m'\u001b[39m]\n\u001b[0;32m---> 12\u001b[0m     issues \u001b[38;5;241m=\u001b[39m \u001b[43mextract_issues_with_retry\u001b[49m\u001b[43m(\u001b[49m\u001b[43mreview_text\u001b[49m\u001b[43m)\u001b[49m\n\u001b[1;32m     14\u001b[0m     improvement_points\u001b[38;5;241m.\u001b[39mappend({\n\u001b[1;32m     15\u001b[0m         \u001b[38;5;124m'\u001b[39m\u001b[38;5;124murl\u001b[39m\u001b[38;5;124m'\u001b[39m : url,\n\u001b[1;32m     16\u001b[0m         \u001b[38;5;124m'\u001b[39m\u001b[38;5;124mreview\u001b[39m\u001b[38;5;124m'\u001b[39m: review_text,\n\u001b[1;32m     17\u001b[0m         \u001b[38;5;124m'\u001b[39m\u001b[38;5;124missues\u001b[39m\u001b[38;5;124m'\u001b[39m: issues\n\u001b[1;32m     18\u001b[0m     })\n\u001b[1;32m     20\u001b[0m \u001b[38;5;28;01mif\u001b[39;00m improvement_points:\n",
      "Cell \u001b[0;32mIn[17], line 5\u001b[0m, in \u001b[0;36mextract_issues_with_retry\u001b[0;34m(review_text, retries)\u001b[0m\n\u001b[1;32m      3\u001b[0m \u001b[38;5;28;01mfor\u001b[39;00m attempt \u001b[38;5;129;01min\u001b[39;00m \u001b[38;5;28mrange\u001b[39m(retries):\n\u001b[1;32m      4\u001b[0m     \u001b[38;5;28;01mtry\u001b[39;00m:\n\u001b[0;32m----> 5\u001b[0m         \u001b[38;5;28;01mreturn\u001b[39;00m \u001b[43mextract_issues_from_review\u001b[49m\u001b[43m(\u001b[49m\u001b[43mreview_text\u001b[49m\u001b[43m)\u001b[49m\n\u001b[1;32m      6\u001b[0m     \u001b[38;5;28;01mexcept\u001b[39;00m openai\u001b[38;5;241m.\u001b[39merror\u001b[38;5;241m.\u001b[39mRateLimitError:\n\u001b[1;32m      7\u001b[0m         \u001b[38;5;28mprint\u001b[39m(\u001b[38;5;124mf\u001b[39m\u001b[38;5;124m\"\u001b[39m\u001b[38;5;124mRate limit reached. Retrying in 20 seconds...\u001b[39m\u001b[38;5;124m\"\u001b[39m)\n",
      "Cell \u001b[0;32mIn[13], line 10\u001b[0m, in \u001b[0;36mextract_issues_from_review\u001b[0;34m(review_text)\u001b[0m\n\u001b[1;32m      3\u001b[0m \u001b[38;5;28;01mdef\u001b[39;00m \u001b[38;5;21mextract_issues_from_review\u001b[39m(review_text):\n\u001b[1;32m      4\u001b[0m     prompt \u001b[38;5;241m=\u001b[39m \u001b[38;5;124mf\u001b[39m\u001b[38;5;124m\"\"\"\u001b[39m\u001b[38;5;124m다음 블로그 글에서 시설에 대한 불편했던 점이나 고쳐야 할 점을 찾아줘:\u001b[39m\n\u001b[1;32m      5\u001b[0m \u001b[38;5;124m    \u001b[39m\n\u001b[1;32m      6\u001b[0m \u001b[38;5;124m    \u001b[39m\u001b[38;5;132;01m{\u001b[39;00mreview_text\u001b[38;5;132;01m}\u001b[39;00m\n\u001b[1;32m      7\u001b[0m \n\u001b[1;32m      8\u001b[0m \u001b[38;5;124m    만약 개선할 점이 명확하지 않거나 없으면 \u001b[39m\u001b[38;5;124m'\u001b[39m\u001b[38;5;124m개선점 없음\u001b[39m\u001b[38;5;124m'\u001b[39m\u001b[38;5;124m이라고 적고 끝내줘.\u001b[39m\u001b[38;5;124m\"\"\"\u001b[39m\n\u001b[0;32m---> 10\u001b[0m     response \u001b[38;5;241m=\u001b[39m \u001b[43mopenai\u001b[49m\u001b[38;5;241;43m.\u001b[39;49m\u001b[43mChatCompletion\u001b[49m\u001b[38;5;241;43m.\u001b[39;49m\u001b[43mcreate\u001b[49m\u001b[43m(\u001b[49m\n\u001b[1;32m     11\u001b[0m \u001b[43m        \u001b[49m\u001b[43mmodel\u001b[49m\u001b[38;5;241;43m=\u001b[39;49m\u001b[38;5;124;43m\"\u001b[39;49m\u001b[38;5;124;43mgpt-4\u001b[39;49m\u001b[38;5;124;43m\"\u001b[39;49m\u001b[43m,\u001b[49m\n\u001b[1;32m     12\u001b[0m \u001b[43m        \u001b[49m\u001b[43mmessages\u001b[49m\u001b[38;5;241;43m=\u001b[39;49m\u001b[43m[\u001b[49m\n\u001b[1;32m     13\u001b[0m \u001b[43m            \u001b[49m\u001b[43m{\u001b[49m\u001b[38;5;124;43m\"\u001b[39;49m\u001b[38;5;124;43mrole\u001b[39;49m\u001b[38;5;124;43m\"\u001b[39;49m\u001b[43m:\u001b[49m\u001b[43m \u001b[49m\u001b[38;5;124;43m\"\u001b[39;49m\u001b[38;5;124;43msystem\u001b[39;49m\u001b[38;5;124;43m\"\u001b[39;49m\u001b[43m,\u001b[49m\u001b[43m \u001b[49m\u001b[38;5;124;43m\"\u001b[39;49m\u001b[38;5;124;43mcontent\u001b[39;49m\u001b[38;5;124;43m\"\u001b[39;49m\u001b[43m:\u001b[49m\u001b[43m \u001b[49m\u001b[38;5;124;43m\"\u001b[39;49m\u001b[38;5;124;43mYou are a helpful assistant.\u001b[39;49m\u001b[38;5;124;43m\"\u001b[39;49m\u001b[43m}\u001b[49m\u001b[43m,\u001b[49m\n\u001b[1;32m     14\u001b[0m \u001b[43m            \u001b[49m\u001b[43m{\u001b[49m\u001b[38;5;124;43m\"\u001b[39;49m\u001b[38;5;124;43mrole\u001b[39;49m\u001b[38;5;124;43m\"\u001b[39;49m\u001b[43m:\u001b[49m\u001b[43m \u001b[49m\u001b[38;5;124;43m\"\u001b[39;49m\u001b[38;5;124;43muser\u001b[39;49m\u001b[38;5;124;43m\"\u001b[39;49m\u001b[43m,\u001b[49m\u001b[43m \u001b[49m\u001b[38;5;124;43m\"\u001b[39;49m\u001b[38;5;124;43mcontent\u001b[39;49m\u001b[38;5;124;43m\"\u001b[39;49m\u001b[43m:\u001b[49m\u001b[43m \u001b[49m\u001b[43mprompt\u001b[49m\u001b[43m}\u001b[49m\n\u001b[1;32m     15\u001b[0m \u001b[43m        \u001b[49m\u001b[43m]\u001b[49m\u001b[43m,\u001b[49m\n\u001b[1;32m     16\u001b[0m \u001b[43m        \u001b[49m\u001b[43mmax_tokens\u001b[49m\u001b[38;5;241;43m=\u001b[39;49m\u001b[38;5;241;43m240\u001b[39;49m\u001b[43m,\u001b[49m\u001b[43m  \u001b[49m\u001b[38;5;66;43;03m# 최대 토큰 수를 제한하여 짧게 응답하도록 설정\u001b[39;49;00m\n\u001b[1;32m     17\u001b[0m \u001b[43m        \u001b[49m\u001b[43mn\u001b[49m\u001b[38;5;241;43m=\u001b[39;49m\u001b[38;5;241;43m1\u001b[39;49m\u001b[43m,\u001b[49m\n\u001b[1;32m     18\u001b[0m \u001b[43m        \u001b[49m\u001b[43mstop\u001b[49m\u001b[38;5;241;43m=\u001b[39;49m\u001b[38;5;28;43;01mNone\u001b[39;49;00m\u001b[43m,\u001b[49m\n\u001b[1;32m     19\u001b[0m \u001b[43m        \u001b[49m\u001b[43mtemperature\u001b[49m\u001b[38;5;241;43m=\u001b[39;49m\u001b[38;5;241;43m0.5\u001b[39;49m\u001b[43m,\u001b[49m\n\u001b[1;32m     20\u001b[0m \u001b[43m    \u001b[49m\u001b[43m)\u001b[49m\n\u001b[1;32m     22\u001b[0m     issues \u001b[38;5;241m=\u001b[39m response[\u001b[38;5;124m'\u001b[39m\u001b[38;5;124mchoices\u001b[39m\u001b[38;5;124m'\u001b[39m][\u001b[38;5;241m0\u001b[39m][\u001b[38;5;124m'\u001b[39m\u001b[38;5;124mmessage\u001b[39m\u001b[38;5;124m'\u001b[39m][\u001b[38;5;124m'\u001b[39m\u001b[38;5;124mcontent\u001b[39m\u001b[38;5;124m'\u001b[39m]\u001b[38;5;241m.\u001b[39mstrip()\n\u001b[1;32m     24\u001b[0m     \u001b[38;5;28;01mif\u001b[39;00m \u001b[38;5;124m\"\u001b[39m\u001b[38;5;124m개선점 없음\u001b[39m\u001b[38;5;124m\"\u001b[39m \u001b[38;5;129;01min\u001b[39;00m issues \u001b[38;5;129;01mor\u001b[39;00m \u001b[38;5;28mlen\u001b[39m(issues) \u001b[38;5;241m<\u001b[39m \u001b[38;5;241m10\u001b[39m:  \u001b[38;5;66;03m# 개선점이 없거나 짧은 경우\u001b[39;00m\n",
      "File \u001b[0;32m~/.conda/envs/ch/lib/python3.11/site-packages/openai/api_resources/chat_completion.py:25\u001b[0m, in \u001b[0;36mChatCompletion.create\u001b[0;34m(cls, *args, **kwargs)\u001b[0m\n\u001b[1;32m     23\u001b[0m \u001b[38;5;28;01mwhile\u001b[39;00m \u001b[38;5;28;01mTrue\u001b[39;00m:\n\u001b[1;32m     24\u001b[0m     \u001b[38;5;28;01mtry\u001b[39;00m:\n\u001b[0;32m---> 25\u001b[0m         \u001b[38;5;28;01mreturn\u001b[39;00m \u001b[38;5;28;43msuper\u001b[39;49m\u001b[43m(\u001b[49m\u001b[43m)\u001b[49m\u001b[38;5;241;43m.\u001b[39;49m\u001b[43mcreate\u001b[49m\u001b[43m(\u001b[49m\u001b[38;5;241;43m*\u001b[39;49m\u001b[43margs\u001b[49m\u001b[43m,\u001b[49m\u001b[43m \u001b[49m\u001b[38;5;241;43m*\u001b[39;49m\u001b[38;5;241;43m*\u001b[39;49m\u001b[43mkwargs\u001b[49m\u001b[43m)\u001b[49m\n\u001b[1;32m     26\u001b[0m     \u001b[38;5;28;01mexcept\u001b[39;00m TryAgain \u001b[38;5;28;01mas\u001b[39;00m e:\n\u001b[1;32m     27\u001b[0m         \u001b[38;5;28;01mif\u001b[39;00m timeout \u001b[38;5;129;01mis\u001b[39;00m \u001b[38;5;129;01mnot\u001b[39;00m \u001b[38;5;28;01mNone\u001b[39;00m \u001b[38;5;129;01mand\u001b[39;00m time\u001b[38;5;241m.\u001b[39mtime() \u001b[38;5;241m>\u001b[39m start \u001b[38;5;241m+\u001b[39m timeout:\n",
      "File \u001b[0;32m~/.conda/envs/ch/lib/python3.11/site-packages/openai/api_resources/abstract/engine_api_resource.py:155\u001b[0m, in \u001b[0;36mEngineAPIResource.create\u001b[0;34m(cls, api_key, api_base, api_type, request_id, api_version, organization, **params)\u001b[0m\n\u001b[1;32m    129\u001b[0m \u001b[38;5;129m@classmethod\u001b[39m\n\u001b[1;32m    130\u001b[0m \u001b[38;5;28;01mdef\u001b[39;00m \u001b[38;5;21mcreate\u001b[39m(\n\u001b[1;32m    131\u001b[0m     \u001b[38;5;28mcls\u001b[39m,\n\u001b[0;32m   (...)\u001b[0m\n\u001b[1;32m    138\u001b[0m     \u001b[38;5;241m*\u001b[39m\u001b[38;5;241m*\u001b[39mparams,\n\u001b[1;32m    139\u001b[0m ):\n\u001b[1;32m    140\u001b[0m     (\n\u001b[1;32m    141\u001b[0m         deployment_id,\n\u001b[1;32m    142\u001b[0m         engine,\n\u001b[0;32m   (...)\u001b[0m\n\u001b[1;32m    152\u001b[0m         api_key, api_base, api_type, api_version, organization, \u001b[38;5;241m*\u001b[39m\u001b[38;5;241m*\u001b[39mparams\n\u001b[1;32m    153\u001b[0m     )\n\u001b[0;32m--> 155\u001b[0m     response, _, api_key \u001b[38;5;241m=\u001b[39m \u001b[43mrequestor\u001b[49m\u001b[38;5;241;43m.\u001b[39;49m\u001b[43mrequest\u001b[49m\u001b[43m(\u001b[49m\n\u001b[1;32m    156\u001b[0m \u001b[43m        \u001b[49m\u001b[38;5;124;43m\"\u001b[39;49m\u001b[38;5;124;43mpost\u001b[39;49m\u001b[38;5;124;43m\"\u001b[39;49m\u001b[43m,\u001b[49m\n\u001b[1;32m    157\u001b[0m \u001b[43m        \u001b[49m\u001b[43murl\u001b[49m\u001b[43m,\u001b[49m\n\u001b[1;32m    158\u001b[0m \u001b[43m        \u001b[49m\u001b[43mparams\u001b[49m\u001b[38;5;241;43m=\u001b[39;49m\u001b[43mparams\u001b[49m\u001b[43m,\u001b[49m\n\u001b[1;32m    159\u001b[0m \u001b[43m        \u001b[49m\u001b[43mheaders\u001b[49m\u001b[38;5;241;43m=\u001b[39;49m\u001b[43mheaders\u001b[49m\u001b[43m,\u001b[49m\n\u001b[1;32m    160\u001b[0m \u001b[43m        \u001b[49m\u001b[43mstream\u001b[49m\u001b[38;5;241;43m=\u001b[39;49m\u001b[43mstream\u001b[49m\u001b[43m,\u001b[49m\n\u001b[1;32m    161\u001b[0m \u001b[43m        \u001b[49m\u001b[43mrequest_id\u001b[49m\u001b[38;5;241;43m=\u001b[39;49m\u001b[43mrequest_id\u001b[49m\u001b[43m,\u001b[49m\n\u001b[1;32m    162\u001b[0m \u001b[43m        \u001b[49m\u001b[43mrequest_timeout\u001b[49m\u001b[38;5;241;43m=\u001b[39;49m\u001b[43mrequest_timeout\u001b[49m\u001b[43m,\u001b[49m\n\u001b[1;32m    163\u001b[0m \u001b[43m    \u001b[49m\u001b[43m)\u001b[49m\n\u001b[1;32m    165\u001b[0m     \u001b[38;5;28;01mif\u001b[39;00m stream:\n\u001b[1;32m    166\u001b[0m         \u001b[38;5;66;03m# must be an iterator\u001b[39;00m\n\u001b[1;32m    167\u001b[0m         \u001b[38;5;28;01massert\u001b[39;00m \u001b[38;5;129;01mnot\u001b[39;00m \u001b[38;5;28misinstance\u001b[39m(response, OpenAIResponse)\n",
      "File \u001b[0;32m~/.conda/envs/ch/lib/python3.11/site-packages/openai/api_requestor.py:299\u001b[0m, in \u001b[0;36mAPIRequestor.request\u001b[0;34m(self, method, url, params, headers, files, stream, request_id, request_timeout)\u001b[0m\n\u001b[1;32m    278\u001b[0m \u001b[38;5;28;01mdef\u001b[39;00m \u001b[38;5;21mrequest\u001b[39m(\n\u001b[1;32m    279\u001b[0m     \u001b[38;5;28mself\u001b[39m,\n\u001b[1;32m    280\u001b[0m     method,\n\u001b[0;32m   (...)\u001b[0m\n\u001b[1;32m    287\u001b[0m     request_timeout: Optional[Union[\u001b[38;5;28mfloat\u001b[39m, Tuple[\u001b[38;5;28mfloat\u001b[39m, \u001b[38;5;28mfloat\u001b[39m]]] \u001b[38;5;241m=\u001b[39m \u001b[38;5;28;01mNone\u001b[39;00m,\n\u001b[1;32m    288\u001b[0m ) \u001b[38;5;241m-\u001b[39m\u001b[38;5;241m>\u001b[39m Tuple[Union[OpenAIResponse, Iterator[OpenAIResponse]], \u001b[38;5;28mbool\u001b[39m, \u001b[38;5;28mstr\u001b[39m]:\n\u001b[1;32m    289\u001b[0m     result \u001b[38;5;241m=\u001b[39m \u001b[38;5;28mself\u001b[39m\u001b[38;5;241m.\u001b[39mrequest_raw(\n\u001b[1;32m    290\u001b[0m         method\u001b[38;5;241m.\u001b[39mlower(),\n\u001b[1;32m    291\u001b[0m         url,\n\u001b[0;32m   (...)\u001b[0m\n\u001b[1;32m    297\u001b[0m         request_timeout\u001b[38;5;241m=\u001b[39mrequest_timeout,\n\u001b[1;32m    298\u001b[0m     )\n\u001b[0;32m--> 299\u001b[0m     resp, got_stream \u001b[38;5;241m=\u001b[39m \u001b[38;5;28;43mself\u001b[39;49m\u001b[38;5;241;43m.\u001b[39;49m\u001b[43m_interpret_response\u001b[49m\u001b[43m(\u001b[49m\u001b[43mresult\u001b[49m\u001b[43m,\u001b[49m\u001b[43m \u001b[49m\u001b[43mstream\u001b[49m\u001b[43m)\u001b[49m\n\u001b[1;32m    300\u001b[0m     \u001b[38;5;28;01mreturn\u001b[39;00m resp, got_stream, \u001b[38;5;28mself\u001b[39m\u001b[38;5;241m.\u001b[39mapi_key\n",
      "File \u001b[0;32m~/.conda/envs/ch/lib/python3.11/site-packages/openai/api_requestor.py:710\u001b[0m, in \u001b[0;36mAPIRequestor._interpret_response\u001b[0;34m(self, result, stream)\u001b[0m\n\u001b[1;32m    702\u001b[0m     \u001b[38;5;28;01mreturn\u001b[39;00m (\n\u001b[1;32m    703\u001b[0m         \u001b[38;5;28mself\u001b[39m\u001b[38;5;241m.\u001b[39m_interpret_response_line(\n\u001b[1;32m    704\u001b[0m             line, result\u001b[38;5;241m.\u001b[39mstatus_code, result\u001b[38;5;241m.\u001b[39mheaders, stream\u001b[38;5;241m=\u001b[39m\u001b[38;5;28;01mTrue\u001b[39;00m\n\u001b[1;32m    705\u001b[0m         )\n\u001b[1;32m    706\u001b[0m         \u001b[38;5;28;01mfor\u001b[39;00m line \u001b[38;5;129;01min\u001b[39;00m parse_stream(result\u001b[38;5;241m.\u001b[39miter_lines())\n\u001b[1;32m    707\u001b[0m     ), \u001b[38;5;28;01mTrue\u001b[39;00m\n\u001b[1;32m    708\u001b[0m \u001b[38;5;28;01melse\u001b[39;00m:\n\u001b[1;32m    709\u001b[0m     \u001b[38;5;28;01mreturn\u001b[39;00m (\n\u001b[0;32m--> 710\u001b[0m         \u001b[38;5;28;43mself\u001b[39;49m\u001b[38;5;241;43m.\u001b[39;49m\u001b[43m_interpret_response_line\u001b[49m\u001b[43m(\u001b[49m\n\u001b[1;32m    711\u001b[0m \u001b[43m            \u001b[49m\u001b[43mresult\u001b[49m\u001b[38;5;241;43m.\u001b[39;49m\u001b[43mcontent\u001b[49m\u001b[38;5;241;43m.\u001b[39;49m\u001b[43mdecode\u001b[49m\u001b[43m(\u001b[49m\u001b[38;5;124;43m\"\u001b[39;49m\u001b[38;5;124;43mutf-8\u001b[39;49m\u001b[38;5;124;43m\"\u001b[39;49m\u001b[43m)\u001b[49m\u001b[43m,\u001b[49m\n\u001b[1;32m    712\u001b[0m \u001b[43m            \u001b[49m\u001b[43mresult\u001b[49m\u001b[38;5;241;43m.\u001b[39;49m\u001b[43mstatus_code\u001b[49m\u001b[43m,\u001b[49m\n\u001b[1;32m    713\u001b[0m \u001b[43m            \u001b[49m\u001b[43mresult\u001b[49m\u001b[38;5;241;43m.\u001b[39;49m\u001b[43mheaders\u001b[49m\u001b[43m,\u001b[49m\n\u001b[1;32m    714\u001b[0m \u001b[43m            \u001b[49m\u001b[43mstream\u001b[49m\u001b[38;5;241;43m=\u001b[39;49m\u001b[38;5;28;43;01mFalse\u001b[39;49;00m\u001b[43m,\u001b[49m\n\u001b[1;32m    715\u001b[0m \u001b[43m        \u001b[49m\u001b[43m)\u001b[49m,\n\u001b[1;32m    716\u001b[0m         \u001b[38;5;28;01mFalse\u001b[39;00m,\n\u001b[1;32m    717\u001b[0m     )\n",
      "File \u001b[0;32m~/.conda/envs/ch/lib/python3.11/site-packages/openai/api_requestor.py:775\u001b[0m, in \u001b[0;36mAPIRequestor._interpret_response_line\u001b[0;34m(self, rbody, rcode, rheaders, stream)\u001b[0m\n\u001b[1;32m    773\u001b[0m stream_error \u001b[38;5;241m=\u001b[39m stream \u001b[38;5;129;01mand\u001b[39;00m \u001b[38;5;124m\"\u001b[39m\u001b[38;5;124merror\u001b[39m\u001b[38;5;124m\"\u001b[39m \u001b[38;5;129;01min\u001b[39;00m resp\u001b[38;5;241m.\u001b[39mdata\n\u001b[1;32m    774\u001b[0m \u001b[38;5;28;01mif\u001b[39;00m stream_error \u001b[38;5;129;01mor\u001b[39;00m \u001b[38;5;129;01mnot\u001b[39;00m \u001b[38;5;241m200\u001b[39m \u001b[38;5;241m<\u001b[39m\u001b[38;5;241m=\u001b[39m rcode \u001b[38;5;241m<\u001b[39m \u001b[38;5;241m300\u001b[39m:\n\u001b[0;32m--> 775\u001b[0m     \u001b[38;5;28;01mraise\u001b[39;00m \u001b[38;5;28mself\u001b[39m\u001b[38;5;241m.\u001b[39mhandle_error_response(\n\u001b[1;32m    776\u001b[0m         rbody, rcode, resp\u001b[38;5;241m.\u001b[39mdata, rheaders, stream_error\u001b[38;5;241m=\u001b[39mstream_error\n\u001b[1;32m    777\u001b[0m     )\n\u001b[1;32m    778\u001b[0m \u001b[38;5;28;01mreturn\u001b[39;00m resp\n",
      "\u001b[0;31mInvalidRequestError\u001b[0m: This model's maximum context length is 8192 tokens. However, your messages resulted in 11012 tokens. Please reduce the length of the messages."
     ]
    }
   ],
   "source": [
    "# 전체 돌리기\n",
    "# 장소별 개선점 도출 및 저장\n",
    "location_improvement_points = {}\n",
    "\n",
    "for location in df['location'].unique():\n",
    "    location_reviews = df[df['location'] == location]\n",
    "    improvement_points = []\n",
    "    \n",
    "    for idx, row in location_reviews.iterrows():\n",
    "        url = row['url']\n",
    "        review_text = row['content']\n",
    "        issues = extract_issues_with_retry(review_text)\n",
    "        \n",
    "        improvement_points.append({\n",
    "            'url' : url,\n",
    "            'review': review_text,\n",
    "            'issues': issues\n",
    "        })\n",
    "    \n",
    "    if improvement_points:\n",
    "        location_improvement_points[location] = improvement_points"
   ]
  },
  {
   "cell_type": "code",
   "execution_count": null,
   "metadata": {},
   "outputs": [],
   "source": [
    "# 일단 앞서 코드로 저장된 결과를 JSON 파일로 저장\n",
    "with open('Data/location_improvement_points1.json', 'w', encoding='utf-8') as json_file:\n",
    "    json.dump(location_improvement_points, json_file, ensure_ascii=False, indent=4)\n",
    "\n",
    "print(\"Location improvement points have been saved to location_improvement_points.json\")"
   ]
  },
  {
   "cell_type": "code",
   "execution_count": 37,
   "metadata": {},
   "outputs": [
    {
     "data": {
      "text/plain": [
       "25"
      ]
     },
     "execution_count": 37,
     "metadata": {},
     "output_type": "execute_result"
    }
   ],
   "source": [
    "len(improvement_points)"
   ]
  },
  {
   "cell_type": "code",
   "execution_count": 38,
   "metadata": {},
   "outputs": [
    {
     "data": {
      "text/plain": [
       "{'url': 'https://blog.naver.com/binggresmile/223246491651',\n",
       " 'review': '\\u200b 천안시는 오는 28일부터 29일까지 이틀간 오룡웰빙파크에서 천안시민과 함께하는 ‘K-DOG FESTIVAL’를 개최한다(포스터). \\u200b 25일 시에 따르면, 이번 행사는 반려동물의 생명 존중 가치 확산과 성숙한 반려동물 문화 정착, 반려인과 비반려인·반려동물이 함께 즐길 수 있는 환경 조성을 위해 마련됐다. \\u200b 천안시, 연암대학교, 백석문화대학교가 공동으로 주관하며 교육부가 지원하는 고등직업교육거점지구 사업(HiVE)의 일환으로 추진된다. \\u200b 행사는 각종 경진대회, 반려동물 체험 부스, 전문가 특강 등 다양한 볼거리와 즐길 거리로 구성됐다. \\u200b 천안시장배 학생 반려견 훈련 경진대회(고등부·대학부)를 시작으로  어질리티 경진대회(일반부)와 천안시민 누구나 참여할 수 있는 바른 산책대회, 반려견과 반려인이 함께하는 견공 올림픽 등이 개최될 예정이다. \\u200b 올바른 반려문화 확산을 위해 ▲연암대 이웅종 교수와 함께하는 ‘바른 반려문화 산책 특강’ ▲펫 아로마 마사지 특강 ▲반려동물의 생각을 읽어보는 ‘펫타로’ ▲훈련·건강상담·미용 등 반려견과 함께 교감할 수 있는 다채로운 체험형 프로그램이 열린다. \\u200b 성숙한 반려동물 문화정착을 위해 반려동물의 입양·등록 상담, 반려인의 에티켓 홍보 등도 진행한다. \\u200b 또 반려동물 관련 업체와 천안시 동물호보센터, 충청남도 수의사회, 천안시 동물보호단체 등이 약 20여 개의 반려동물 산업관 부스를 운영해 다양한 볼거리를 제공할 예정이다. \\u200b 시는 사람과 동물이 행복하게 살아가는 반려 문화 확산을 위해 축구센터와 백석동 일원에 반려인 쉼터를 조성하고 내년 1월 반려동물보호센터를 개장할 계획이다. \\u200b 김영구 축산과장은 “이번 행사가 반려동물 인식 개선과 동물 보호, 생명 존중 가치 확산 등 성숙한 반려동물 문화 조성에 도움이 될 것으로 기대한다”며 “앞으로도 반려동물과 반려인, 비반려인이 공존 할 수 있는 반려 문화를 선도하는 천안시가 되도록 노력하겠다”고 말했다. \\u200b #충남#천안시#반려견#천안Kdog페스티벌#빈려동물축제 \\u200b http://www.glctimes.com/news/articleView.html?idxno=12120 \\u200b ',\n",
       " 'issues': '개선점 없음'}"
      ]
     },
     "execution_count": 38,
     "metadata": {},
     "output_type": "execute_result"
    }
   ],
   "source": [
    "improvement_points[-1]"
   ]
  },
  {
   "cell_type": "code",
   "execution_count": 34,
   "metadata": {},
   "outputs": [
    {
     "data": {
      "text/html": [
       "<div>\n",
       "<style scoped>\n",
       "    .dataframe tbody tr th:only-of-type {\n",
       "        vertical-align: middle;\n",
       "    }\n",
       "\n",
       "    .dataframe tbody tr th {\n",
       "        vertical-align: top;\n",
       "    }\n",
       "\n",
       "    .dataframe thead th {\n",
       "        text-align: right;\n",
       "    }\n",
       "</style>\n",
       "<table border=\"1\" class=\"dataframe\">\n",
       "  <thead>\n",
       "    <tr style=\"text-align: right;\">\n",
       "      <th></th>\n",
       "      <th>location</th>\n",
       "      <th>title</th>\n",
       "      <th>url</th>\n",
       "      <th>postdate</th>\n",
       "      <th>content</th>\n",
       "    </tr>\n",
       "  </thead>\n",
       "  <tbody>\n",
       "    <tr>\n",
       "      <th>52</th>\n",
       "      <td>백석동 반려인 쉼터</td>\n",
       "      <td>천안시 ‘K-DOG FESTIVAL’ 개최...“반려동물과 함께...</td>\n",
       "      <td>https://blog.naver.com/binggresmile/223246491651</td>\n",
       "      <td>2023-10-25</td>\n",
       "      <td>​ 천안시는 오는 28일부터 29일까지 이틀간 오룡웰빙파크에서 천안시민과 함께하는 ...</td>\n",
       "    </tr>\n",
       "  </tbody>\n",
       "</table>\n",
       "</div>"
      ],
      "text/plain": [
       "      location                                    title  \\\n",
       "52  백석동 반려인 쉼터  천안시 ‘K-DOG FESTIVAL’ 개최...“반려동물과 함께...    \n",
       "\n",
       "                                                 url    postdate  \\\n",
       "52  https://blog.naver.com/binggresmile/223246491651  2023-10-25   \n",
       "\n",
       "                                              content  \n",
       "52  ​ 천안시는 오는 28일부터 29일까지 이틀간 오룡웰빙파크에서 천안시민과 함께하는 ...  "
      ]
     },
     "execution_count": 34,
     "metadata": {},
     "output_type": "execute_result"
    }
   ],
   "source": [
    "df[df['url'] =='https://blog.naver.com/binggresmile/223246491651']"
   ]
  },
  {
   "cell_type": "markdown",
   "metadata": {},
   "source": [
    "## 최종 개선점 도출 함수 수정"
   ]
  },
  {
   "cell_type": "code",
   "execution_count": 42,
   "metadata": {},
   "outputs": [],
   "source": [
    "# 긴 리뷰 텍스트를 나누는 함수 정의\n",
    "def split_text(text, max_tokens=3000):\n",
    "    words = text.split()\n",
    "    parts = []\n",
    "    current_part = []\n",
    "    current_length = 0\n",
    "\n",
    "    for word in words:\n",
    "        current_length += len(word) + 1  # 단어와 공백의 길이를 고려\n",
    "        if current_length > max_tokens:\n",
    "            parts.append(' '.join(current_part))\n",
    "            current_part = [word]\n",
    "            current_length = len(word) + 1\n",
    "        else:\n",
    "            current_part.append(word)\n",
    "\n",
    "    if current_part:  # 마지막 부분 추가\n",
    "        parts.append(' '.join(current_part))\n",
    "\n",
    "    return parts"
   ]
  },
  {
   "cell_type": "code",
   "execution_count": 43,
   "metadata": {},
   "outputs": [],
   "source": [
    "# 개선점 도출 함수 정의\n",
    "def extract_issues_from_review(review_text):\n",
    "    parts = split_text(review_text)\n",
    "    all_issues = []\n",
    "\n",
    "    for part in parts:\n",
    "        prompt = f\"\"\"다음 블로그 글에서 시설에 대한 불편했던 점이나 고쳐야 할 점을 찾아줘:\n",
    "\n",
    "        {part}\n",
    "\n",
    "        만약 개선할 점이 명확하지 않거나 없으면 '개선점 없음'이라고 적고 끝내줘.\"\"\"\n",
    "        \n",
    "        response = openai.ChatCompletion.create(\n",
    "            model=\"gpt-4\",\n",
    "            messages=[\n",
    "                {\"role\": \"system\", \"content\": \"You are a helpful assistant.\"},\n",
    "                {\"role\": \"user\", \"content\": prompt}\n",
    "            ],\n",
    "            max_tokens=240,  # 최대 토큰 수를 제한하여 짧게 응답하도록 설정\n",
    "            n=1,\n",
    "            stop=None,\n",
    "            temperature=0.5,\n",
    "        )\n",
    "        \n",
    "        issues = response['choices'][0]['message']['content'].strip()\n",
    "        \n",
    "        if \"개선점 없음\" in issues or len(issues) < 10:  # 개선점이 없거나 짧은 경우\n",
    "            continue  # '개선점 없음'은 추가하지 않음\n",
    "        else:\n",
    "            all_issues.append(issues)\n",
    "    \n",
    "    if not all_issues:\n",
    "        return \"개선점 없음\" # 글 나눴을 때 각 부분에 대해서 전부 없을 경우\n",
    "    else:\n",
    "        return '\\n'.join(all_issues)\n",
    "\n",
    "# api 호출시 rate limit에 걸릴 경우 재시도하는 함수 정의\n",
    "def extract_issues_with_retry(review_text, retries=3):\n",
    "    for attempt in range(retries):\n",
    "        try:\n",
    "            return extract_issues_from_review(review_text)\n",
    "        except openai.error.RateLimitError:\n",
    "            print(f\"Rate limit reached. Retrying in 20 seconds...\")\n",
    "            time.sleep(20)\n",
    "        except openai.error.InvalidRequestError as e:\n",
    "            print(f\"Invalid request: {e}\")\n",
    "            return \"Invalid request, please check the content length.\"\n",
    "    return \"Rate limit exceeded, please try later.\""
   ]
  },
  {
   "cell_type": "code",
   "execution_count": 44,
   "metadata": {},
   "outputs": [
    {
     "name": "stdout",
     "output_type": "stream",
     "text": [
      "Rate limit reached. Retrying in 20 seconds...\n",
      "Rate limit reached. Retrying in 20 seconds...\n",
      "Rate limit reached. Retrying in 20 seconds...\n",
      "Rate limit reached. Retrying in 20 seconds...\n",
      "Rate limit reached. Retrying in 20 seconds...\n",
      "Rate limit reached. Retrying in 20 seconds...\n",
      "Rate limit reached. Retrying in 20 seconds...\n",
      "Rate limit reached. Retrying in 20 seconds...\n",
      "Rate limit reached. Retrying in 20 seconds...\n",
      "Rate limit reached. Retrying in 20 seconds...\n",
      "Rate limit reached. Retrying in 20 seconds...\n",
      "Rate limit reached. Retrying in 20 seconds...\n",
      "Rate limit reached. Retrying in 20 seconds...\n",
      "Rate limit reached. Retrying in 20 seconds...\n",
      "Rate limit reached. Retrying in 20 seconds...\n",
      "Rate limit reached. Retrying in 20 seconds...\n",
      "Rate limit reached. Retrying in 20 seconds...\n",
      "Rate limit reached. Retrying in 20 seconds...\n",
      "Rate limit reached. Retrying in 20 seconds...\n",
      "Rate limit reached. Retrying in 20 seconds...\n",
      "Rate limit reached. Retrying in 20 seconds...\n",
      "Rate limit reached. Retrying in 20 seconds...\n",
      "Rate limit reached. Retrying in 20 seconds...\n",
      "Rate limit reached. Retrying in 20 seconds...\n",
      "Rate limit reached. Retrying in 20 seconds...\n",
      "Rate limit reached. Retrying in 20 seconds...\n",
      "Rate limit reached. Retrying in 20 seconds...\n",
      "Rate limit reached. Retrying in 20 seconds...\n",
      "Rate limit reached. Retrying in 20 seconds...\n",
      "Rate limit reached. Retrying in 20 seconds...\n",
      "Rate limit reached. Retrying in 20 seconds...\n",
      "Rate limit reached. Retrying in 20 seconds...\n",
      "Rate limit reached. Retrying in 20 seconds...\n",
      "Rate limit reached. Retrying in 20 seconds...\n",
      "Rate limit reached. Retrying in 20 seconds...\n",
      "Rate limit reached. Retrying in 20 seconds...\n",
      "Rate limit reached. Retrying in 20 seconds...\n",
      "Rate limit reached. Retrying in 20 seconds...\n",
      "Rate limit reached. Retrying in 20 seconds...\n",
      "Rate limit reached. Retrying in 20 seconds...\n",
      "Rate limit reached. Retrying in 20 seconds...\n"
     ]
    }
   ],
   "source": [
    "# 전체 돌리기 (df.iloc[53:]부터 시작)\n",
    "# 장소별 개선점 도출 및 저장\n",
    "location_improvement_points = {}\n",
    "\n",
    "# 이미 처리한 부분을 건너뛰고, 53번째 행부터 시작\n",
    "for idx, row in df.iloc[53:].iterrows():\n",
    "    location = row['location']\n",
    "    url = row['url']\n",
    "    review_text = row['content']\n",
    "    issues = extract_issues_with_retry(review_text)\n",
    "    \n",
    "    if location not in location_improvement_points:\n",
    "        location_improvement_points[location] = []\n",
    "        \n",
    "    location_improvement_points[location].append({\n",
    "        'url': url,\n",
    "        'review': review_text,\n",
    "        'issues': issues\n",
    "    })"
   ]
  },
  {
   "cell_type": "code",
   "execution_count": 45,
   "metadata": {},
   "outputs": [
    {
     "name": "stdout",
     "output_type": "stream",
     "text": [
      "Location improvement points have been saved to location_improvement_points.json\n"
     ]
    }
   ],
   "source": [
    "# 결과를 JSON 파일로 저장\n",
    "with open('Data/location_improvement_points2.json', 'w', encoding='utf-8') as json_file:\n",
    "    json.dump(location_improvement_points, json_file, ensure_ascii=False, indent=4)\n",
    "\n",
    "print(\"Location improvement points have been saved to location_improvement_points.json\")"
   ]
  },
  {
   "cell_type": "markdown",
   "metadata": {},
   "source": [
    "----"
   ]
  },
  {
   "cell_type": "markdown",
   "metadata": {},
   "source": [
    "백석동이 뭔가 이상해서 다시.."
   ]
  },
  {
   "cell_type": "code",
   "execution_count": 49,
   "metadata": {},
   "outputs": [
    {
     "name": "stdout",
     "output_type": "stream",
     "text": [
      "Rate limit reached. Retrying in 20 seconds...\n",
      "Rate limit reached. Retrying in 20 seconds...\n",
      "Rate limit reached. Retrying in 20 seconds...\n"
     ]
    }
   ],
   "source": [
    "location_improvement_points = {}\n",
    "\n",
    "# 백석동만\n",
    "for idx, row in df.iloc[53:].iterrows():\n",
    "    location = row['location']\n",
    "    if location == \"백석동 반려인 쉼터\":\n",
    "        url = row['url']\n",
    "        review_text = row['content']\n",
    "        issues = extract_issues_with_retry(review_text)\n",
    "        \n",
    "        if location not in location_improvement_points:\n",
    "            location_improvement_points[location] = []\n",
    "            \n",
    "        location_improvement_points[location].append({\n",
    "            'url': url,\n",
    "            'review': review_text,\n",
    "            'issues': issues\n",
    "        })"
   ]
  },
  {
   "cell_type": "code",
   "execution_count": null,
   "metadata": {},
   "outputs": [],
   "source": [
    "location_improvement_points"
   ]
  },
  {
   "cell_type": "markdown",
   "metadata": {},
   "source": [
    "필요없을듯"
   ]
  },
  {
   "cell_type": "markdown",
   "metadata": {},
   "source": [
    "# 데이터 합치기"
   ]
  },
  {
   "cell_type": "code",
   "execution_count": 52,
   "metadata": {},
   "outputs": [],
   "source": [
    "# 두 개의 JSON 파일 로드\n",
    "with open('Data/location_improvement_points1.json', 'r', encoding='utf-8') as f1:\n",
    "    data_part1 = json.load(f1)\n",
    "\n",
    "with open('Data/location_improvement_points2.json', 'r', encoding='utf-8') as f2:\n",
    "    data_part2 = json.load(f2)\n",
    "\n",
    "# JSON 데이터를 병합\n",
    "merged_data = data_part1.copy()  # 첫 번째 파일의 내용을 복사\n",
    "\n",
    "for location, improvement_points in data_part2.items():\n",
    "    if location in merged_data:\n",
    "        merged_data[location].extend(improvement_points)  # 중복된 키가 있으면 리스트에 추가\n",
    "    else:\n",
    "        merged_data[location] = improvement_points  # 중복된 키가 없으면 새로운 키로 추가\n",
    "\n",
    "# 병합된 데이터를 새로운 JSON 파일로 저장\n",
    "with open('Data/merged_location_improvements.json', 'w', encoding='utf-8') as f:\n",
    "    json.dump(merged_data, f, ensure_ascii=False, indent=4)"
   ]
  }
 ],
 "metadata": {
  "kernelspec": {
   "display_name": "ch",
   "language": "python",
   "name": "python3"
  },
  "language_info": {
   "codemirror_mode": {
    "name": "ipython",
    "version": 3
   },
   "file_extension": ".py",
   "mimetype": "text/x-python",
   "name": "python",
   "nbconvert_exporter": "python",
   "pygments_lexer": "ipython3",
   "version": "3.11.0"
  }
 },
 "nbformat": 4,
 "nbformat_minor": 2
}
