{
 "cells": [
  {
   "cell_type": "code",
   "execution_count": 3,
   "metadata": {},
   "outputs": [],
   "source": [
    "import openai\n",
    "import pandas as pd\n",
    "import json\n",
    "from dotenv import load_dotenv\n",
    "import os\n",
    "import time"
   ]
  },
  {
   "cell_type": "code",
   "execution_count": 4,
   "metadata": {},
   "outputs": [],
   "source": [
    "load_dotenv()\n",
    "openai.api_key = os.getenv('OPENAI_API_KEY')"
   ]
  },
  {
   "cell_type": "markdown",
   "metadata": {},
   "source": [
    "# 사설 시설의 장점 도출"
   ]
  },
  {
   "cell_type": "code",
   "execution_count": 5,
   "metadata": {},
   "outputs": [],
   "source": [
    "df = pd.read_csv('Data/cleaned_data_private.csv')"
   ]
  },
  {
   "cell_type": "code",
   "execution_count": 6,
   "metadata": {},
   "outputs": [],
   "source": [
    "# 긴 리뷰 텍스트를 나누는 함수 정의\n",
    "def split_text(text, max_tokens=3000):\n",
    "    words = text.split()\n",
    "    parts = []\n",
    "    current_part = []\n",
    "    current_length = 0\n",
    "\n",
    "    for word in words:\n",
    "        current_length += len(word) + 1  # 단어와 공백의 길이를 고려\n",
    "        if current_length > max_tokens:\n",
    "            parts.append(' '.join(current_part))\n",
    "            current_part = [word]\n",
    "            current_length = len(word) + 1\n",
    "        else:\n",
    "            current_part.append(word)\n",
    "\n",
    "    if current_part:  # 마지막 부분 추가\n",
    "        parts.append(' '.join(current_part))\n",
    "\n",
    "    return parts"
   ]
  },
  {
   "cell_type": "code",
   "execution_count": 7,
   "metadata": {},
   "outputs": [],
   "source": [
    "# 장점 도출 함수\n",
    "def extract_pos_from_review(review_text):\n",
    "    parts = split_text(review_text)\n",
    "    all_issues = []\n",
    "\n",
    "    for part in parts:\n",
    "        prompt = f\"\"\"다음 블로그 글에서 시설에 대한 긍정적으로 평가한 점을 찾아줘:\n",
    "\n",
    "        {part}\n",
    "\n",
    "        만약 긍정적인 피드백이 명확하지 않거나 없으면 '없음'이라고 적고 끝내줘.\"\"\"\n",
    "        \n",
    "        response = openai.ChatCompletion.create(\n",
    "            model=\"gpt-4\",\n",
    "            messages=[\n",
    "                {\"role\": \"system\", \"content\": \"You are a helpful assistant.\"},\n",
    "                {\"role\": \"user\", \"content\": prompt}\n",
    "            ],\n",
    "            max_tokens=240,  \n",
    "            n=1,\n",
    "            stop=None,\n",
    "            temperature=0.5,\n",
    "        )\n",
    "        \n",
    "        issues = response['choices'][0]['message']['content'].strip()\n",
    "        \n",
    "        if \"없음\" in issues or len(issues) < 10:  \n",
    "            continue  \n",
    "        else:\n",
    "            all_issues.append(issues)\n",
    "    \n",
    "    if not all_issues:\n",
    "        return \"없음\" # 글 나눴을 때 각 부분에 대해서 전부 없을 경우\n",
    "    else:\n",
    "        return '\\n'.join(all_issues)"
   ]
  },
  {
   "cell_type": "code",
   "execution_count": 8,
   "metadata": {},
   "outputs": [],
   "source": [
    "# api 호출시 rate limit에 걸릴 경우 재시도하는 함수\n",
    "def extract_pos_with_retry(review_text, retries=3):\n",
    "    for attempt in range(retries):\n",
    "        try:\n",
    "            return extract_pos_from_review(review_text)\n",
    "        except openai.error.RateLimitError:\n",
    "            print(f\"Rate limit reached. Retrying in 20 seconds...\")\n",
    "            time.sleep(20)\n",
    "        except openai.error.InvalidRequestError as e:\n",
    "            print(f\"Invalid request: {e}\")\n",
    "            return \"Invalid request, please check the content length.\"\n",
    "    return \"Rate limit exceeded, please try later.\""
   ]
  },
  {
   "cell_type": "code",
   "execution_count": 9,
   "metadata": {},
   "outputs": [
    {
     "data": {
      "text/plain": [
       "location                                          천안 운동장 애견카페\n",
       "title                             천안 애견카페 평생함께 잔디운동장과 포토존이 가득\n",
       "url              https://blog.naver.com/nahe0904/223445138495\n",
       "postdate                                           2024-05-13\n",
       "content     ​ ​ 오늘 포스팅의 주인공은 제가 아닌 심바🦁에요 ​ 5월5일 개린이날에는 비가 ...\n",
       "Name: 1, dtype: object"
      ]
     },
     "execution_count": 9,
     "metadata": {},
     "output_type": "execute_result"
    }
   ],
   "source": [
    "df.iloc[1]"
   ]
  },
  {
   "cell_type": "code",
   "execution_count": null,
   "metadata": {},
   "outputs": [],
   "source": [
    "# 실험용 **돌리면 토큰 씀\n",
    "review_text = df.iloc[1].content\n",
    "pos = extract_pos_from_review(review_text)\n",
    "print(pos)"
   ]
  },
  {
   "cell_type": "code",
   "execution_count": null,
   "metadata": {},
   "outputs": [],
   "source": [
    "# 전체 돌리기\n",
    "# 장점 도출 및 저장\n",
    "positive_points = {'천안 사설 시설': []}\n",
    "\n",
    "for idx, row in df.iterrows():\n",
    "    url = row['url']\n",
    "    review_text = row['content']\n",
    "    positives = extract_pos_with_retry(review_text)\n",
    "    \n",
    "    positive_points['천안 사설 시설'].append({\n",
    "        'url': url,\n",
    "        'review': review_text,\n",
    "        'positives': positives\n",
    "    })"
   ]
  },
  {
   "cell_type": "code",
   "execution_count": 13,
   "metadata": {},
   "outputs": [
    {
     "data": {
      "text/plain": [
       "{'url': 'https://blog.naver.com/kskr3105/223430968747',\n",
       " 'review': '\\u200b \\u200b 오랜만에강아지운동장에서 뛰뛰시키고 싶어서천안애견카페날아라멍멍을 찾았어요. 주소상은 아산 탕정이지만 천안 불당동과 10분 거리밖에 되지 않아서 아주 가까웠어요. 직접 방문해 봤더니 블루 도어의 외관이 눈길을 사로잡았어요. 외국 감성이 뿜뿜하는 카페랄까요? 애카가 아니라 일반 갬성 카페 같은 분위기였어요. 바로 앞에넓은 단독 주차공간이 있어서 오시는 분들은 주차 걱정 안 해도 될 것 같아요. \\u200b \\u200b \\u200b 알고 보니tv 동물농장에도 나왔던 곳이었어요. 아무튼 간에 입장하기 전 이용수칙이 있어서 열심히 읽어준 후 입장했어요. 우선, 반군이 애들을 데리고 강아지운동장으로 바로 입장했고 저 혼자만 실내로 들어갔어요. 주차장에서 운동장으로 들어가는 문이 있어서 편하게 바로 입장할 수 있었어요.날아라멍멍 영업시간은 평일은 오전 11시 ~ 오후 7시까지, 주말은 오후 8시까지이며 매주 월요일이 휴무이니 참고하셔서 방문하면 좋을 것 같아요. 저희는 낑깡이땜에 오픈 시간에 맞춰서 오전 11시에 방문했어요. \\u200b \\u200b \\u200b 문을 열고 들어가니 안전문으로 한 번 더 있어서 실내 카페에서 놀다가 아이가 뛰쳐나가는 일은 없을듯해요. 그리고 실내화가 있어서 순간 신발을 벗는 건가 했는데 여쭤보니 비가 온 날에만 신는다고 하더라고요. 얼마나깔끔하게 관리를 하는지 이때부터 느낄 수 있었어요. \\u200b \\u200b \\u200b 들어오자마자 저도 모르게 감탄이 절로 나왔어요. 사실 밖에서 봤을 땐 강아지운동장은 넓어도 실내는 아담한 천안애견카페라고 생각했어요. 근데약 50평 정도 되는 실내였으며 무엇보다 너무 깨끗했어요. 아무리 열자마자 왔다고 해도 제가 지금까지 직접 다녀봤던 애카들은 애들 냄새가 배어 있거나 바닥에 털들이 있고 그랬어요. 여기는 그런 거 전혀 없고 저희 집보다 쾌적하고 깔끔했어요. 그리고다양한 브랜드의 의류와 프리미엄 애견용품들도 판매하고 있어서 쇼핑하는 재미도 느낄 수 있는 곳이었어요. \\u200b \\u200b 날아라멍멍 입장료는 1인 5000원, 1견 5000원이었고 입장료, 음료 가격 모두 합리적이었어요. 그리고 음료는 착한 가격으로 테이크아웃이 가능했어요. 비대면 키오스크로 주문을 하면 되고음료는 최신 커피 머신 기계로 만들어지며떡볶이, 라면, 만두 등 간단한 먹거리들도 판매를 하고 있어서 좋았어요. \\u200b \\u200b \\u200b 직접 구석구석 둘러보니 배려심과 세심함이 느껴지는천안애견카페였어요. 곳곳에 이쁜 포토존은 물론이고 기저귀, 배변패드, 포토 소품 등 다양하게 준비가 되어 있었어요. 감사하게도기저귀는 1개 무료 제공이 되었어요. \\u200b \\u200b \\u200b 여기는 화장실 앞인데 어쩜 화장실 입구까지 이리도 갬성 있게 인테리어를 해놨는지 저도 모르게 카메라를 들게 되더라고요. 그냥 이쁘게 꾸민 게 다가 아니라쾌적하고 깨끗하다 보니 더 이쁘게다가왔어요. \\u200b \\u200b 실내 구경을 마치고 깡톨형제가 뛰뛰하는 강아지운동장으로 나왔어요.150평의 천연 잔디 운동장으로 댕댕이들이 신나게 뛰놀기에 넘나 제격이었어요. 야외도 포토존이 곳곳에 있었고 어질리티도 있어서 알차게 시간을 보낼 수 있게 꾸며져 있었어요. 그리고 뜨거운 날에도 반려견과 반려인 모두 그늘에서 쉴 수 있게쉼 공간도 여유롭게 마련되어 있어 더욱 맘에 들었어요. \\u200b \\u200b \\u200b 가만히 지켜보니 실내와 야외 모두 왜 이렇게 깨끗한지 알았어요.청소를 자주 하기 때문에 냄새도 없고 청결하고 쾌적했던 거였어요. 야외의 시설까지 닦는 건 처음 봤어요. 진짜여긴 믿고 올 수 있는천안애견카페라는 생각이 들었어요. 솔직히 실내는 그렇다 쳐도 야외 운동장은 구석에 응가가 있는 경우도 있고 시설에 먼지가 쌓여 있는 경우도 있는데 여긴 달랐어요. 한쪽에는 물과 휴지통, 배변봉투가 있어서 역시나세심한 배려가 느껴졌어요. \\u200b \\u200b \\u200b 처음에는 탐색을 하는지 냄새만 여기저기 다니면서 맡더니 조금 시간이 지나니 익숙해졌는지 신나게 뛰뛰했어요. 오랜만에 애카를 찾아서인지 특히 낑깡이가 넘 신나 보였어요. \\u200b \\u200b 저희는 시원하게 아이스 아메리카노를 주문했어요. 친절하게도 직접 가져다주셨어요. 이날 카페 자체도 이쁘고 쾌적한 것도 맘에 들었지만사장님과 알바생님이 너무 친절하셔서 더 맘에 들었어요. 보여주기식이 아닌우러나오는 친절함이라 더 감동이었어요. \\u200b \\u200b \\u200b 내새꾸들 촌놈들이라서 멍푸치노를 한 번도 먹어본 적이 없어요.천안애견카페 날아라멍멍에 있어서 주문을 해주었어요. 낯설어서 그런지 처음에는 엄청 탐색을 하더니 맛난 걸 알았는지 폭풍으로 먹기 시작했어요. 여기멍푸치노 맛집이었어요. \\u200b \\u200b \\u200b 멍푸치노도 맛있게 먹었겠다 다시 신나게 뛰뛰했어요. 운동장에 웨건이랑 작은 수레 같은 게 있길래 울 밤톨이 수레도 태워줬어요. 낑깡이는 혼자서 여기저기 누비느라 불러도 안 오고 혼자 잘 놀았어요. \\u200b \\u200b 포토존에서 기념샷 안 찍으면 섭섭하지요? 요렇게 귀여운 기념샷도 남겼어요. 여기는 애들이신나게 놀 수도 있지만 귀여운 인생샷도 남길 수 있어좋았어요. \\u200b \\u200b \\u200b 햇빛이 강해져 더위 식힐 겸 실내에 들어와서도 찰칵은 이어졌어요. 근데 요 녀석들 여기저기 탐색을 하고 싶어서 협조를 안 해주었어요. 기린 앞에서는 무서워서 고개 돌리고 가발을 씌어놓으니 낯설어서 고개 내리고 사랑스러운 포토존에서는 둘이 붙어있기 싫다고 도망가고요. 엉망진창이 되어 버린 사진 놀이였어요. \\u200b \\u200b \\u200b 다시 나가서 놀고 싶어 하는 눈치여서 어느 정도 휴식도 했겠다 다시 강아지운동장으로 나왔어요. 나오자마자 날아라 낑깡을 보여주었어요. 정말 신나고 기분 좋을 때만 보여주는 모습인데날아라멍멍이 낑깡이의 취향 저격했나 봐요. \\u200b \\u200b 분위기를 더 리얼하게 느끼시라고 동영상으로도 담았어요. 아산 혹은천안 강아지운동장어디로 가야 하지 싶다면 여기로 가시라고 추천드리고 싶어요. 제가 직접 가보니댕댕이들이 신나게 놀기에 부족함이 없는 만족스러운 곳이었거든요. \\u200b \\u200b \\u200b 놀다 보니운동장 단독 대관이 가능한 걸 알았어요. 휴무인 월요일은 종일 대관이 가능하고 영업하는 날은 영업 시작 전과 영업 끝나고 대관이 가능했어요. 2인 2견 기준에 시간당 2만원이었어요. 프라이빗하게 놀려면 요거 너무 괜찮은 것 같아요. \\u200b \\u200b \\u200b 지금까지 제가직접 가봤던 애견카페 중에서 가장 쾌적한 곳이 아닌가 싶어요. 제가 사는 동네가 아니어서 자주는 못 가도 애들 신나게 뛰뛰해주고 싶을 때 한 번씩 찾아갈 생각이며 운동장 대관도 조만간 하려고요. 천안애견카페어딜 갈까 고민이시라면 깨끗하고 친절한날아라멍멍강추 드려요. \\u200b \\u200b 그럼 이만 뿅. \\u200b \\u200b \\u200b \\u200b \\u200b \\u200b \\u200b \\u200b \\u200b \\u200b \\u200b \\u200b \\u200b \\u200b \\u200b \\u200b ',\n",
       " 'positives': '1. 카페의 외관이 외국 감성이 뿜뿜하며, 주차 공간이 넓어 주차 걱정이 없다.\\n2. 강아지 운동장으로 바로 입장할 수 있는 문이 있어 편리하다.\\n3. 카페의 내부가 깔끔하고 청결하며, 다양한 브랜드의 의류와 프리미엄 애견용품들이 판매되어 있다.\\n4. 입장료와 음료 가격이 합리적이며, 음료는 테이크아웃이 가능하다.\\n5. 카페의 내부와 외부 시설이 깨끗하고 청결하며, 이는 청소를 자주 하기 때문이라고 평가하였다.\\n6.\\n블로그 글에서는 천안애견카페 날아라멍멍을 깨끗하다고 평가하였습니다. 또한, 친절하다는 평가도 내렸습니다. 이는 시설에 대한 긍정적인 평가로 볼 수 있습니다.'}"
      ]
     },
     "execution_count": 13,
     "metadata": {},
     "output_type": "execute_result"
    }
   ],
   "source": [
    "positive_points['천안 사설 시설'][0]"
   ]
  },
  {
   "cell_type": "code",
   "execution_count": 14,
   "metadata": {},
   "outputs": [
    {
     "name": "stdout",
     "output_type": "stream",
     "text": [
      "Location positive points have been saved to private_facil_positives.json\n"
     ]
    }
   ],
   "source": [
    "# 결과를 JSON 파일로 저장\n",
    "with open('Data/private_facil_positives.json', 'w', encoding='utf-8') as json_file:\n",
    "    json.dump(positive_points, json_file, ensure_ascii=False, indent=4)\n",
    "\n",
    "print(\"Location positive points have been saved to private_facil_positives.json\")"
   ]
  },
  {
   "cell_type": "code",
   "execution_count": null,
   "metadata": {},
   "outputs": [],
   "source": [
    "with open('Data/private_facil_positives.json') as f:\n",
    "    data = json.load(f)\n",
    "data"
   ]
  }
 ],
 "metadata": {
  "kernelspec": {
   "display_name": "ch",
   "language": "python",
   "name": "python3"
  },
  "language_info": {
   "codemirror_mode": {
    "name": "ipython",
    "version": 3
   },
   "file_extension": ".py",
   "mimetype": "text/x-python",
   "name": "python",
   "nbconvert_exporter": "python",
   "pygments_lexer": "ipython3",
   "version": "3.11.0"
  }
 },
 "nbformat": 4,
 "nbformat_minor": 2
}
